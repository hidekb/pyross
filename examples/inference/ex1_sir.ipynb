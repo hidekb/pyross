{
 "cells": [
  {
   "cell_type": "code",
   "execution_count": 1,
   "metadata": {},
   "outputs": [],
   "source": [
    "%%capture\n",
    "## compile PyRoss for this notebook\n",
    "import os\n",
    "owd = os.getcwd()\n",
    "os.chdir('../../')\n",
    "%run setup.py install\n",
    "os.chdir(owd)"
   ]
  },
  {
   "cell_type": "code",
   "execution_count": 2,
   "metadata": {},
   "outputs": [],
   "source": [
    "%matplotlib inline\n",
    "import numpy as np\n",
    "from matplotlib import pyplot as plt\n",
    "import pyross"
   ]
  },
  {
   "cell_type": "code",
   "execution_count": 3,
   "metadata": {},
   "outputs": [],
   "source": [
    "M  = 2                  # the population has two age groups\n",
    "N  =  5e4           # and this is the total population\n",
    "\n",
    "# correct params\n",
    "\n",
    "beta  = 0.02         # infection rate\n",
    "gIa   = 1./7            # recovery rate of asymptomatic infectives\n",
    "gIs   = 1./7            # recovery rate of asymptomatic infectives\n",
    "alpha = 0.2          # fraction of asymptomatic infectives\n",
    "fsa   = 0.8          # the self-isolation parameter\n",
    "\n",
    "# set the age structure\n",
    "fi = np.array([0.25, 0.75])  # fraction of population in age age group\n",
    "Ni = N*fi\n",
    "\n",
    "# set the contact structure\n",
    "C = np.array([[18., 9.], [3., 12.]])\n",
    "\n",
    "# set up initial condition\n",
    "Ia0 = np.array([10, 10])  # each age group has asymptomatic infectives\n",
    "Is0 = np.array([10, 10])   # and also symptomatic infectives\n",
    "R0  = np.array([0, 0])  # there are no recovered individuals initially\n",
    "S0  = Ni - (Ia0 + Is0 + R0)\n",
    "\n",
    "Tf = 100\n",
    "Nf = Tf+1\n",
    "steps = 11\n",
    "\n",
    "def contactMatrix(t):\n",
    "    return C\n",
    "\n",
    "parameters = {'alpha':alpha, 'beta':beta, 'gIa':gIa, 'gIs':gIs,'fsa':fsa}\n",
    "\n",
    "# use pyross stochastic to generate traj and save \n",
    "sto_model = pyross.stochastic.SIR(parameters, M, Ni)\n",
    "data = sto_model.simulate(S0, Ia0, Is0, contactMatrix, Tf, Nf)\n",
    "data_array = np.reshape(data['X'], (Tf+1, 3, M))\n",
    "np.save('sto_traj.npy', data_array)"
   ]
  },
  {
   "cell_type": "code",
   "execution_count": 5,
   "metadata": {},
   "outputs": [],
   "source": [
    "# load the data and rescale to intensive variables \n",
    "x = np.load('sto_traj.npy').astype('float')\n",
    "x = x/N\n",
    "\n",
    "# initialise the estimator \n",
    "estimator = pyross.inference.SIR(parameters, M, fi, N)"
   ]
  },
  {
   "cell_type": "code",
   "execution_count": 8,
   "metadata": {},
   "outputs": [
    {
     "name": "stdout",
     "output_type": "stream",
     "text": [
      "[0.19883799 0.02006396 0.14306499 0.12058293]\n",
      "219\n"
     ]
    }
   ],
   "source": [
    "# take a guess \n",
    "beta_g = 0.1\n",
    "gIa_g = 0.1\n",
    "gIs_g = 0.1\n",
    "alpha_g = 0.4\n",
    "guess = [alpha_g, beta_g, gIa_g, gIs_g]\n",
    "\n",
    "# inference \n",
    "params, nit = estimator.inference(guess, x, Tf, Nf, steps, contactMatrix) # currently only guess four parameters\n",
    "print(params) # best guess \n",
    "print(nit) # number of iterations of the optimization run "
   ]
  },
  {
   "cell_type": "code",
   "execution_count": 7,
   "metadata": {},
   "outputs": [
    {
     "name": "stdout",
     "output_type": "stream",
     "text": [
      "-1885.4537947520334\n"
     ]
    }
   ],
   "source": [
    "# compute -log_p for the original (correct) parameters \n",
    "parameters = {'alpha':alpha, 'beta':beta, 'gIa':gIa, 'gIs':gIs,'fsa':fsa}\n",
    "logp = estimator.obtain_minus_log_p(parameters, x, Tf, Nf, steps, contactMatrix)\n",
    "print(logp) "
   ]
  },
  {
   "cell_type": "code",
   "execution_count": 9,
   "metadata": {},
   "outputs": [
    {
     "name": "stdout",
     "output_type": "stream",
     "text": [
      "63322.78942701757\n"
     ]
    }
   ],
   "source": [
    "# compute -log_p for a different set of parameters \n",
    "parameters = {'alpha':alpha_g, 'beta':beta_g, 'gIa':gIa_g, 'gIs':gIs_g,'fsa':fsa}\n",
    "logp = estimator.obtain_minus_log_p(parameters, x, Tf, Nf, steps, contactMatrix)\n",
    "print(logp) "
   ]
  },
  {
   "cell_type": "code",
   "execution_count": null,
   "metadata": {},
   "outputs": [],
   "source": []
  }
 ],
 "metadata": {
  "kernelspec": {
   "display_name": "Python 3",
   "language": "python",
   "name": "python3"
  },
  "language_info": {
   "codemirror_mode": {
    "name": "ipython",
    "version": 3
   },
   "file_extension": ".py",
   "mimetype": "text/x-python",
   "name": "python",
   "nbconvert_exporter": "python",
   "pygments_lexer": "ipython3",
   "version": "3.7.6"
  }
 },
 "nbformat": 4,
 "nbformat_minor": 4
}
